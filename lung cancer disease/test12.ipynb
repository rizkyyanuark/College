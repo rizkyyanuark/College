{
 "cells": [
  {
   "cell_type": "code",
   "execution_count": null,
   "metadata": {},
   "outputs": [],
   "source": [
    "\n",
    "import random\n",
    "\n",
    "def game():\n",
    "    # Pilihan komputer\n",
    "    computer = random.choice(['gunting', 'batu', 'kertas'])\n",
    "\n",
    "    # Pilihan pemain\n",
    "    player = input(\"Pilih gunting, batu, atau kertas: \").lower()\n",
    "\n",
    "    # Cek hasil permainan\n",
    "    if player == computer:\n",
    "        print(f\"Komputer memilih {computer}. Seri!\")\n",
    "    elif player == 'gunting':\n",
    "        if computer == 'batu':\n",
    "            print(f\"Komputer memilih {computer}. Kamu kalah!\")\n",
    "        else:\n",
    "            print(f\"Komputer memilih {computer}. Kamu menang!\")\n",
    "    elif player == 'batu':\n",
    "        if computer == 'kertas':\n",
    "            print(f\"Komputer memilih {computer}. Kamu kalah!\")\n",
    "        else:\n",
    "            print(f\"Komputer memilih {computer}. Kamu menang!\")\n",
    "    elif player == 'kertas':\n",
    "        if computer == 'gunting':\n",
    "            print(f\"Komputer memilih {computer}. Kamu kalah!\")\n",
    "        else:\n",
    "            print(f\"Komputer memilih {computer}. Kamu menang!\")\n",
    "    else:\n",
    "        print(\"Pilihanmu tidak valid. Silakan pilih gunting, batu, atau kertas.\")\n",
    "\n",
    "# Jalankan permainan\n",
    "game()"
   ]
  }
 ],
 "metadata": {
  "language_info": {
   "name": "python"
  },
  "orig_nbformat": 4
 },
 "nbformat": 4,
 "nbformat_minor": 2
}
