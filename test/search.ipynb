{
 "cells": [
  {
   "cell_type": "code",
   "execution_count": 24,
   "metadata": {},
   "outputs": [
    {
     "name": "stdout",
     "output_type": "stream",
     "text": [
      "1\n",
      "2\n",
      "3\n",
      "4\n",
      "5\n",
      "6\n",
      "7\n",
      "hasil tidak di temukan\n"
     ]
    }
   ],
   "source": [
    "def sequential_search(arr,k):\n",
    "    N = len(arr)\n",
    "    step = 0\n",
    "    for i in range(0,N):\n",
    "        step +=1 \n",
    "        print(step)\n",
    "        if (arr[i] == k):\n",
    "            return i\n",
    "    return -1\n",
    "\n",
    "array = [22,1,32,54,73,23,2]\n",
    "k = 20\n",
    "hasil = sequential_search(array,k)\n",
    "if (hasil == -1):\n",
    "    print('hasil tidak di temukan')\n",
    "else:\n",
    "    print(f'hasil ditemukan di indeks ke {hasil}')        "
   ]
  },
  {
   "cell_type": "code",
   "execution_count": 41,
   "metadata": {},
   "outputs": [
    {
     "name": "stdout",
     "output_type": "stream",
     "text": [
      "Array sebelum diurutkan: [22, 1, 32, 54, 73, 23, 2]\n",
      "Array setelah diurutkan: [1, 2, 22, 23, 32, 54, 73]\n",
      "data yg dicari 20\n",
      "1\n",
      "2\n",
      "3\n",
      "4\n",
      "5\n",
      "6\n",
      "7\n",
      "hasil tidak di temukan\n"
     ]
    }
   ],
   "source": [
    "def sequential_search(arr,k):\n",
    "    N = len(arr)\n",
    "    step = 0\n",
    "    for i in range(0,N):\n",
    "        step +=1 \n",
    "        print(step)\n",
    "        if arr[i] == k:\n",
    "            return i\n",
    "        # elif arr[i]>k:\n",
    "        #     return i\n",
    "    return -1\n",
    "\n",
    "def merge_sort(arr):\n",
    "    count = 0\n",
    "    if len(arr) >1:\n",
    "        # devide\n",
    "        mid = len(arr) // 2 \n",
    "        left_half = arr[:mid]\n",
    "        right_half = arr[mid:]\n",
    "\n",
    "        # memanggill lagi fungsi untuk tujuan memecah lebih kecil lagi array\n",
    "        merge_sort(left_half)\n",
    "        merge_sort(right_half)\n",
    "\n",
    "        \n",
    "        # untuk menginisiasi\n",
    "        i = j = k = 0\n",
    "\n",
    "        # membandingkan sisi kiri dengan sisi kanan(merge)\n",
    "        while i < len(left_half) and j < len(right_half):\n",
    "            count +=1\n",
    "            if left_half[i] < right_half[j]:\n",
    "                arr[k] = left_half[i]\n",
    "                i += 1\n",
    "            else:\n",
    "                arr[k] = right_half[j]\n",
    "                j += 1\n",
    "            k += 1\n",
    "\n",
    "        while i < len(left_half):\n",
    "            arr[k] = left_half[i]\n",
    "            i += 1\n",
    "            k += 1\n",
    "\n",
    "\n",
    "        while j < len(right_half):\n",
    "            arr[k] = right_half[j]\n",
    "            j += 1\n",
    "            k += 1\n",
    "\n",
    "array = [22,1,32,54,73,23,2]\n",
    "print(f\"Array sebelum diurutkan: {array}\")\n",
    "merge_sort(array)\n",
    "print(f\"Array setelah diurutkan: {array}\")\n",
    "\n",
    "k = 20\n",
    "print(f'data yg dicari {k}')\n",
    "\n",
    "hasil = sequential_search(array,k)\n",
    "if (hasil == -1):\n",
    "    print('hasil tidak di temukan')\n",
    "else:\n",
    "    print(f'hasil ditemukan di indeks ke {hasil}') "
   ]
  },
  {
   "cell_type": "code",
   "execution_count": 39,
   "metadata": {},
   "outputs": [
    {
     "name": "stdout",
     "output_type": "stream",
     "text": [
      "1\n",
      "2\n",
      "3\n",
      "4\n",
      "hasil ditemukan di indeks ke 3\n"
     ]
    }
   ],
   "source": [
    "def sentinel_search(arr,k):\n",
    "    size = len(arr) \n",
    "    arr.append(k)\n",
    "    i = 0\n",
    "    while arr[i] !=k :\n",
    "        i+=1\n",
    "    if (i == size):\n",
    "        return -1\n",
    "    else:\n",
    "        return i\n",
    "    \n",
    "array = [1, 2, 22, 23, 32, 54, 73]\n",
    "k = 23\n",
    "hasil = sequential_search(array,k)\n",
    "if (hasil == -1):\n",
    "    print('hasil tidak di temukan')\n",
    "else:\n",
    "    print(f'hasil ditemukan di indeks ke {hasil}')   "
   ]
  },
  {
   "cell_type": "code",
   "execution_count": 43,
   "metadata": {},
   "outputs": [
    {
     "name": "stdout",
     "output_type": "stream",
     "text": [
      "hasil ditemukan di indeks ke 1\n"
     ]
    }
   ],
   "source": [
    "import math\n",
    "def metasearch(arr, K):\n",
    "    n = len(arr)\n",
    "    lg = int(math.log2(n-1))+1\n",
    "    pos = 0\n",
    "    for i in range(lg -1,-1,-1):\n",
    "        if (arr[pos] == K):\n",
    "            return pos\n",
    "        new_pos = pos | (1 << i)\n",
    "        if ((new_pos < n) and (arr [new_pos] <=K)):\n",
    "            pos = new_pos\n",
    "    return (pos if(arr[pos] == K) else -1)\n",
    "A = [ -2, 10, 100, 250, 32315 ]\n",
    "hasil = metasearch(A,10)\n",
    "if (hasil == -1):\n",
    "    print('hasil tidak di temukan')\n",
    "else:\n",
    "    print(f'hasil ditemukan di indeks ke {hasil}') \n",
    "\n",
    "        "
   ]
  }
 ],
 "metadata": {
  "kernelspec": {
   "display_name": "Python 3",
   "language": "python",
   "name": "python3"
  },
  "language_info": {
   "codemirror_mode": {
    "name": "ipython",
    "version": 3
   },
   "file_extension": ".py",
   "mimetype": "text/x-python",
   "name": "python",
   "nbconvert_exporter": "python",
   "pygments_lexer": "ipython3",
   "version": "3.10.11"
  },
  "orig_nbformat": 4
 },
 "nbformat": 4,
 "nbformat_minor": 2
}
