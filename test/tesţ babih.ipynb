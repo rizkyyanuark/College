{
 "cells": [
  {
   "cell_type": "code",
   "execution_count": 2,
   "metadata": {},
   "outputs": [
    {
     "name": "stderr",
     "output_type": "stream",
     "text": [
      "C:\\Users\\rizky\\AppData\\Local\\Temp\\ipykernel_5636\\1104104224.py:8: DeprecatedFeatureWarning: content is deprecated, use rawContent instead\n",
      "  twt_lis1.append([tweet.date,tweet.id,tweet.content,tweet.user.username])\n"
     ]
    },
    {
     "data": {
      "text/html": [
       "<div>\n",
       "<style scoped>\n",
       "    .dataframe tbody tr th:only-of-type {\n",
       "        vertical-align: middle;\n",
       "    }\n",
       "\n",
       "    .dataframe tbody tr th {\n",
       "        vertical-align: top;\n",
       "    }\n",
       "\n",
       "    .dataframe thead th {\n",
       "        text-align: right;\n",
       "    }\n",
       "</style>\n",
       "<table border=\"1\" class=\"dataframe\">\n",
       "  <thead>\n",
       "    <tr style=\"text-align: right;\">\n",
       "      <th></th>\n",
       "      <th>Datetime</th>\n",
       "      <th>Tweetld</th>\n",
       "      <th>Text</th>\n",
       "      <th>Username</th>\n",
       "    </tr>\n",
       "  </thead>\n",
       "  <tbody>\n",
       "    <tr>\n",
       "      <th>0</th>\n",
       "      <td>2023-04-02 11:16:24+00:00</td>\n",
       "      <td>1642486130926043136</td>\n",
       "      <td>Mengisi link pendaftaran \\n\\n Pendaftaran : 1 ...</td>\n",
       "      <td>nesafess</td>\n",
       "    </tr>\n",
       "    <tr>\n",
       "      <th>1</th>\n",
       "      <td>2023-03-28 07:27:34+00:00</td>\n",
       "      <td>1640616604978524161</td>\n",
       "      <td>Unesa sediakan kuota terbanyak di SNBT 2023.\\n...</td>\n",
       "      <td>GoodStatsid</td>\n",
       "    </tr>\n",
       "    <tr>\n",
       "      <th>2</th>\n",
       "      <td>2023-02-21 12:36:34+00:00</td>\n",
       "      <td>1628010790153515009</td>\n",
       "      <td>Kabar Baik! Unesa Tambah Kuota Penerimaan Maha...</td>\n",
       "      <td>beritajatimcom</td>\n",
       "    </tr>\n",
       "    <tr>\n",
       "      <th>3</th>\n",
       "      <td>2023-02-21 01:46:33+00:00</td>\n",
       "      <td>1627847210649157632</td>\n",
       "      <td>SNBP 2023 Unesa Dibuka, Ketahui Prodi dengan P...</td>\n",
       "      <td>aboutmalangcom</td>\n",
       "    </tr>\n",
       "  </tbody>\n",
       "</table>\n",
       "</div>"
      ],
      "text/plain": [
       "                   Datetime              Tweetld  \\\n",
       "0 2023-04-02 11:16:24+00:00  1642486130926043136   \n",
       "1 2023-03-28 07:27:34+00:00  1640616604978524161   \n",
       "2 2023-02-21 12:36:34+00:00  1628010790153515009   \n",
       "3 2023-02-21 01:46:33+00:00  1627847210649157632   \n",
       "\n",
       "                                                Text        Username  \n",
       "0  Mengisi link pendaftaran \\n\\n Pendaftaran : 1 ...        nesafess  \n",
       "1  Unesa sediakan kuota terbanyak di SNBT 2023.\\n...     GoodStatsid  \n",
       "2  Kabar Baik! Unesa Tambah Kuota Penerimaan Maha...  beritajatimcom  \n",
       "3  SNBP 2023 Unesa Dibuka, Ketahui Prodi dengan P...  aboutmalangcom  "
      ]
     },
     "execution_count": 2,
     "metadata": {},
     "output_type": "execute_result"
    }
   ],
   "source": [
    "import snscrape.modules.twitter as sntwitter\n",
    "import pandas as pd\n",
    "import csv\n",
    "twt_lis1 = []\n",
    "for i,tweet in enumerate(sntwitter.TwitterSearchScraper('Kuota Unesa 2023 since:2023-01-21 until:2023-04-10').get_items()):\n",
    "    if i>50:\n",
    "        break\n",
    "    twt_lis1.append([tweet.date,tweet.id,tweet.content,tweet.user.username])\n",
    "tabel= pd.DataFrame(twt_lis1,columns=['Datetime','Tweetld', 'Text','Username'])\n",
    "tabel.to_csv(\"Data_scraping.csv\",index=False)\n",
    "tabel "
   ]
  }
 ],
 "metadata": {
  "kernelspec": {
   "display_name": "Python 3",
   "language": "python",
   "name": "python3"
  },
  "language_info": {
   "codemirror_mode": {
    "name": "ipython",
    "version": 3
   },
   "file_extension": ".py",
   "mimetype": "text/x-python",
   "name": "python",
   "nbconvert_exporter": "python",
   "pygments_lexer": "ipython3",
   "version": "3.10.11"
  },
  "orig_nbformat": 4
 },
 "nbformat": 4,
 "nbformat_minor": 2
}
