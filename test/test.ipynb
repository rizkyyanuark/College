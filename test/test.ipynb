{
 "cells": [
  {
   "cell_type": "markdown",
   "metadata": {},
   "source": [
    "praktikum pd 6"
   ]
  },
  {
   "cell_type": "markdown",
   "metadata": {},
   "source": [
    "gunting batu kertas"
   ]
  },
  {
   "cell_type": "code",
   "execution_count": 7,
   "metadata": {},
   "outputs": [
    {
     "name": "stdout",
     "output_type": "stream",
     "text": [
      "lets play game!\n",
      "pilihan tidak ada!\n",
      "pilihan tidak ada!\n",
      "pilihan tidak ada!\n",
      "pilihan tidak ada!\n",
      "pilihan tidak ada!\n",
      "pilihan tidak ada!\n",
      "pilihan tidak ada!\n",
      "pilihan tidak ada!\n",
      "pilihan tidak ada!\n",
      "pilihan tidak ada!\n",
      "pilihan tidak ada!\n",
      "pilihan tidak ada!\n"
     ]
    },
    {
     "ename": "KeyboardInterrupt",
     "evalue": "Interrupted by user",
     "output_type": "error",
     "traceback": [
      "\u001b[1;31m---------------------------------------------------------------------------\u001b[0m",
      "\u001b[1;31mKeyboardInterrupt\u001b[0m                         Traceback (most recent call last)",
      "Cell \u001b[1;32mIn [7], line 34\u001b[0m\n\u001b[0;32m     29\u001b[0m             \u001b[39mprint\u001b[39m(\n\u001b[0;32m     30\u001b[0m                 \u001b[39mf\u001b[39m\u001b[39m'\u001b[39m\u001b[39manda memilih \u001b[39m\u001b[39m{\u001b[39;00muser\u001b[39m}\u001b[39;00m\u001b[39m sedangkan, computer memilih \u001b[39m\u001b[39m{\u001b[39;00mcomputer\u001b[39m}\u001b[39;00m\u001b[39m'\u001b[39m)\n\u001b[0;32m     31\u001b[0m             \u001b[39mprint\u001b[39m(\u001b[39m'\u001b[39m\u001b[39myou lose!\u001b[39m\u001b[39m'\u001b[39m)\n\u001b[1;32m---> 34\u001b[0m gunting_batu_kertas()\n",
      "Cell \u001b[1;32mIn [7], line 14\u001b[0m, in \u001b[0;36mgunting_batu_kertas\u001b[1;34m()\u001b[0m\n\u001b[0;32m     12\u001b[0m \u001b[39mwhile\u001b[39;00m user \u001b[39mnot\u001b[39;00m \u001b[39min\u001b[39;00m games:\n\u001b[0;32m     13\u001b[0m     \u001b[39mprint\u001b[39m(\u001b[39m'\u001b[39m\u001b[39mpilihan tidak ada!\u001b[39m\u001b[39m'\u001b[39m)\n\u001b[1;32m---> 14\u001b[0m     user \u001b[39m=\u001b[39m \u001b[39minput\u001b[39;49m(\u001b[39mf\u001b[39;49m\u001b[39m'\u001b[39;49m\u001b[39mmasukkan pilihan(\u001b[39;49m\u001b[39m{\u001b[39;49;00ms\u001b[39m}\u001b[39;49;00m\u001b[39m,\u001b[39;49m\u001b[39m{\u001b[39;49;00mr\u001b[39m}\u001b[39;49;00m\u001b[39m,\u001b[39;49m\u001b[39m{\u001b[39;49;00mp\u001b[39m}\u001b[39;49;00m\u001b[39m): \u001b[39;49m\u001b[39m'\u001b[39;49m)\n\u001b[0;32m     15\u001b[0m \u001b[39melse\u001b[39;00m:\n\u001b[0;32m     16\u001b[0m     \u001b[39mif\u001b[39;00m user \u001b[39m==\u001b[39m computer:\n",
      "File \u001b[1;32m~\\AppData\\Roaming\\Python\\Python310\\site-packages\\ipykernel\\kernelbase.py:1177\u001b[0m, in \u001b[0;36mKernel.raw_input\u001b[1;34m(self, prompt)\u001b[0m\n\u001b[0;32m   1173\u001b[0m \u001b[39mif\u001b[39;00m \u001b[39mnot\u001b[39;00m \u001b[39mself\u001b[39m\u001b[39m.\u001b[39m_allow_stdin:\n\u001b[0;32m   1174\u001b[0m     \u001b[39mraise\u001b[39;00m StdinNotImplementedError(\n\u001b[0;32m   1175\u001b[0m         \u001b[39m\"\u001b[39m\u001b[39mraw_input was called, but this frontend does not support input requests.\u001b[39m\u001b[39m\"\u001b[39m\n\u001b[0;32m   1176\u001b[0m     )\n\u001b[1;32m-> 1177\u001b[0m \u001b[39mreturn\u001b[39;00m \u001b[39mself\u001b[39;49m\u001b[39m.\u001b[39;49m_input_request(\n\u001b[0;32m   1178\u001b[0m     \u001b[39mstr\u001b[39;49m(prompt),\n\u001b[0;32m   1179\u001b[0m     \u001b[39mself\u001b[39;49m\u001b[39m.\u001b[39;49m_parent_ident[\u001b[39m\"\u001b[39;49m\u001b[39mshell\u001b[39;49m\u001b[39m\"\u001b[39;49m],\n\u001b[0;32m   1180\u001b[0m     \u001b[39mself\u001b[39;49m\u001b[39m.\u001b[39;49mget_parent(\u001b[39m\"\u001b[39;49m\u001b[39mshell\u001b[39;49m\u001b[39m\"\u001b[39;49m),\n\u001b[0;32m   1181\u001b[0m     password\u001b[39m=\u001b[39;49m\u001b[39mFalse\u001b[39;49;00m,\n\u001b[0;32m   1182\u001b[0m )\n",
      "File \u001b[1;32m~\\AppData\\Roaming\\Python\\Python310\\site-packages\\ipykernel\\kernelbase.py:1219\u001b[0m, in \u001b[0;36mKernel._input_request\u001b[1;34m(self, prompt, ident, parent, password)\u001b[0m\n\u001b[0;32m   1216\u001b[0m             \u001b[39mbreak\u001b[39;00m\n\u001b[0;32m   1217\u001b[0m \u001b[39mexcept\u001b[39;00m \u001b[39mKeyboardInterrupt\u001b[39;00m:\n\u001b[0;32m   1218\u001b[0m     \u001b[39m# re-raise KeyboardInterrupt, to truncate traceback\u001b[39;00m\n\u001b[1;32m-> 1219\u001b[0m     \u001b[39mraise\u001b[39;00m \u001b[39mKeyboardInterrupt\u001b[39;00m(\u001b[39m\"\u001b[39m\u001b[39mInterrupted by user\u001b[39m\u001b[39m\"\u001b[39m) \u001b[39mfrom\u001b[39;00m \u001b[39mNone\u001b[39m\n\u001b[0;32m   1220\u001b[0m \u001b[39mexcept\u001b[39;00m \u001b[39mException\u001b[39;00m:\n\u001b[0;32m   1221\u001b[0m     \u001b[39mself\u001b[39m\u001b[39m.\u001b[39mlog\u001b[39m.\u001b[39mwarning(\u001b[39m\"\u001b[39m\u001b[39mInvalid Message:\u001b[39m\u001b[39m\"\u001b[39m, exc_info\u001b[39m=\u001b[39m\u001b[39mTrue\u001b[39;00m)\n",
      "\u001b[1;31mKeyboardInterrupt\u001b[0m: Interrupted by user"
     ]
    }
   ],
   "source": [
    "import random\n",
    "\n",
    "\n",
    "def gunting_batu_kertas():\n",
    "    print('lets play game!')\n",
    "    s = 'gunting'\n",
    "    r = 'batu'\n",
    "    p = 'kertas'\n",
    "    games = (s, r, p)\n",
    "    user = input(f'masukkan pilihan({s}, {r}, {p}): ')\n",
    "    computer = random.choice(games)\n",
    "    while user not in games:\n",
    "        print('pilihan tidak ada!')\n",
    "        user = input(f'masukkan pilihan({s},{r},{p}): ')\n",
    "    else:\n",
    "        if user == computer:\n",
    "            print(\n",
    "                f'anda memilih {user} sedangkan, computer memilih {computer}')\n",
    "            print('draw')\n",
    "        elif (\n",
    "            (user == s and computer == p)\n",
    "            or (user == r and computer == s)\n",
    "            or (user == p and computer == r)\n",
    "        ):\n",
    "            print(\n",
    "                f'anda memilih {user} sedangkan, computer memilih {computer}')\n",
    "            print('you win')\n",
    "        else:\n",
    "            print(\n",
    "                f'anda memilih {user} sedangkan, computer memilih {computer}')\n",
    "            print('you lose!')\n",
    "\n",
    "\n",
    "gunting_batu_kertas()\n",
    "        \n",
    "\n",
    " "
   ]
  },
  {
   "cell_type": "code",
   "execution_count": null,
   "metadata": {},
   "outputs": [],
   "source": [
    "from tkinter import *\n",
    "from PIL import ImageTk, Image\n",
    "class MyFirstGUI:\n",
    "    def __init__(self, master):\n",
    "        self.master = master\n",
    "        master.title(\"Kuy nge-GUI!\")\n",
    "        img = ImageTk.PhotoImage(Image.open())\n",
    "        self.label = Label(image=img)\n",
    "        self.label.image = img\n",
    "        self.label.pack()\n",
    "root = Tk()\n",
    "my_gui = MyFirstGUI(root)\n",
    "root.mainloop()"
   ]
  },
  {
   "cell_type": "code",
   "execution_count": 1,
   "metadata": {},
   "outputs": [
    {
     "ename": "TypeError",
     "evalue": "can only concatenate str (not \"int\") to str",
     "output_type": "error",
     "traceback": [
      "\u001b[1;31m---------------------------------------------------------------------------\u001b[0m",
      "\u001b[1;31mTypeError\u001b[0m                                 Traceback (most recent call last)",
      "Cell \u001b[1;32mIn[1], line 3\u001b[0m\n\u001b[0;32m      1\u001b[0m num1 \u001b[39m=\u001b[39m \u001b[39minput\u001b[39m(\u001b[39m\"\u001b[39m\u001b[39mEnter number min :\u001b[39m\u001b[39m\"\u001b[39m)\n\u001b[0;32m      2\u001b[0m num2\u001b[39m=\u001b[39m \u001b[39minput\u001b[39m(\u001b[39m\"\u001b[39m\u001b[39mEnter number max :\u001b[39m\u001b[39m\"\u001b[39m)\n\u001b[1;32m----> 3\u001b[0m \u001b[39mfor\u001b[39;00m num \u001b[39min\u001b[39;00m \u001b[39mrange\u001b[39m (num1, num2 \u001b[39m+\u001b[39;49m \u001b[39m1\u001b[39;49m): \n\u001b[0;32m      4\u001b[0m     \u001b[39mif\u001b[39;00m num \u001b[39m>\u001b[39m \u001b[39m1\u001b[39m: \n\u001b[0;32m      5\u001b[0m         \u001b[39mfor\u001b[39;00m i \u001b[39min\u001b[39;00m \u001b[39mrange\u001b[39m(\u001b[39m2\u001b[39m, num): \n",
      "\u001b[1;31mTypeError\u001b[0m: can only concatenate str (not \"int\") to str"
     ]
    }
   ],
   "source": [
    "num1 = input(\"Enter number min :\")\n",
    "num2= input(\"Enter number max :\")\n",
    "for num in range (num1, num2 + 1): \n",
    "    if num > 1: \n",
    "        for i in range(2, num): \n",
    "            if (num % i) == 0: continue\n",
    "    else:\n",
    "        print(num, end=' ')"
   ]
  },
  {
   "cell_type": "code",
   "execution_count": null,
   "metadata": {},
   "outputs": [],
   "source": []
  },
  {
   "cell_type": "code",
   "execution_count": null,
   "metadata": {},
   "outputs": [
    {
     "name": "stdout",
     "output_type": "stream",
     "text": [
      "Nilai x = 1 dan y = 1\n"
     ]
    }
   ],
   "source": [
    "x, y = 1, -1\n",
    "counter = 3\n",
    "for index in range(0, counter):\n",
    "    if x >= y:\n",
    "        x, y = y, x\n",
    "    elif x < y:\n",
    "        x = x+1\n",
    "    else:\n",
    "        continue\n",
    "print ('Nilai x = {} dan y = {}'. format (x,y))"
   ]
  },
  {
   "cell_type": "code",
   "execution_count": null,
   "metadata": {},
   "outputs": [
    {
     "name": "stdout",
     "output_type": "stream",
     "text": [
      "{1, 5}\n",
      "{1, 5}\n",
      "{2}\n",
      "{2}\n"
     ]
    }
   ],
   "source": [
    "s1 = {1,2,5}\n",
    "s2 = {2,3}\n",
    "print(s1 - s2)\n",
    "print(s1.difference(s2))\n",
    "print(s1 & s2)\n",
    "print(s1.intersection(s2))\n"
   ]
  },
  {
   "cell_type": "code",
   "execution_count": 6,
   "metadata": {},
   "outputs": [
    {
     "ename": "NameError",
     "evalue": "name 'Tk' is not defined",
     "output_type": "error",
     "traceback": [
      "\u001b[1;31m---------------------------------------------------------------------------\u001b[0m",
      "\u001b[1;31mNameError\u001b[0m                                 Traceback (most recent call last)",
      "Cell \u001b[1;32mIn [6], line 1\u001b[0m\n\u001b[1;32m----> 1\u001b[0m window \u001b[39m=\u001b[39m Tk()\n\u001b[0;32m      2\u001b[0m window\u001b[39m.\u001b[39mtitle(\u001b[39m\"\u001b[39m\u001b[39mTk GUI ANIME\u001b[39m\u001b[39m\"\u001b[39m)\n\u001b[0;32m      3\u001b[0m window\u001b[39m.\u001b[39mgeometry(\u001b[39m\"\u001b[39m\u001b[39m500x500\u001b[39m\u001b[39m\"\u001b[39m)\n",
      "\u001b[1;31mNameError\u001b[0m: name 'Tk' is not defined"
     ]
    }
   ],
   "source": [
    "window = Tk()\n",
    "window.title(\"Tk GUI ANIME\")\n",
    "window.geometry(\"500x500\")\n",
    "window.configure(bg=\"white\")\n",
    "def kirik():\n",
    "    label1['text'] = 'kirik' \n",
    "def anjing():\n",
    "    label1['text'] = 'anjing' \n",
    "\n",
    "frame=Frame(window, bg=\"green\")\n",
    "frame.pack()\n",
    "str1 = \"\"\n",
    "label1 = Label(frame, text=\"Website Wibu GUI\", fg=\"red\")\n",
    "button1 = Button(window, text=\"hendro\",command=kirik, bg=\"#7CFC00\")\n",
    "label1 = Label(frame, text=str1, fg=\"red\")\n",
    "button1.pack()\n",
    "str2=''\n",
    "label2 = Label(frame, text=str2, fg=\"red\")\n",
    "button2 = Button(window, text=\"hendro\",command=anjing, bg=\"#880808\", fg=\"#ffffff\")\n",
    "button2.pack()\n",
    "\n",
    "\n",
    "\n",
    "\n",
    "window.mainloop()"
   ]
  },
  {
   "cell_type": "code",
   "execution_count": null,
   "metadata": {},
   "outputs": [
    {
     "name": "stdout",
     "output_type": "stream",
     "text": [
      "True\n",
      "True\n",
      "False\n",
      "True\n"
     ]
    }
   ],
   "source": [
    "s1 = {1,2}\n",
    "s2 = {1,2,3}\n",
    "s3 = {3,4}\n",
    "print(s1 <= s2)\n",
    "print(s2 >= s1)\n",
    "print(s1 <= s3)\n",
    "print(s1 <= s1)"
   ]
  },
  {
   "cell_type": "code",
   "execution_count": 1,
   "metadata": {},
   "outputs": [
    {
     "name": "stdout",
     "output_type": "stream",
     "text": [
      "dict_values(['jakarta', 'berlin', 'tokyo', 'ankara', 'burma'])\n"
     ]
    }
   ],
   "source": [
    "capital = {'indonesia':'jakarta','italy':'rome','germany':'berlin'}\n",
    "capital['japan'] = 'tokyo'\n",
    "y = {'turki':'ankara','thailand':'burma'}\n",
    "capital.update(y)\n",
    "del capital['italy']\n",
    "print(capital.values())"
   ]
  },
  {
   "cell_type": "code",
   "execution_count": 8,
   "metadata": {},
   "outputs": [],
   "source": [
    "import tkinter as tk \n",
    "from tkinter import *\n",
    "from tkinter.messagebox import showinfo\n",
    "\n",
    "class Main(tk.Tk):\n",
    "    def __init__(self):\n",
    "        super().__init__()\n",
    "        self.hasil = StringVar()\n",
    "        self.hasil.set(\"\")\n",
    "\n",
    "        label = tk.Label(self, text='Silahkan pilih pekerjaan anda')\n",
    "        label.pack()\n",
    "\n",
    "        button1 = tk.Radiobutton(self, text='Mahasiswa', value ='mahasiswa', command=self.masuk)\n",
    "        button1.pack()\n",
    "    \n",
    "        button2 = tk.Radiobutton(self, text='Dosen', value='dosen', command=self.masuk)\n",
    "        button2.pack()\n",
    "\n",
    "        button3 = tk.Radiobutton(self, text='Umum', value='umum', command=self.masuk)\n",
    "        button3.pack()\n",
    "\n",
    "        button4 = tk.Button(self, text='Daftar', command=self.open_subclass)\n",
    "        button4.pack()\n",
    "    \n",
    "    def masuk(self):\n",
    "        self.hasil.get()\n",
    "\n",
    "    def open_subclass(self):\n",
    "        Sub_class1(self)\n",
    "\n",
    "class Sub_class1(tk.Toplevel):\n",
    "    def __init__(self, master):\n",
    "        self.master = master\n",
    "        super().__init__(master)\n",
    "        label = tk.Label(self, text=\"Silahkan isi formulir\")\n",
    "        label.pack()\n",
    "\n",
    "        label = tk.Label(self, text=\"Nama:\")\n",
    "        label.pack()\n",
    "        self.nama = StringVar()\n",
    "        entrynama = tk.Entry(self, textvariable=self.nama)\n",
    "        entrynama.pack()\n",
    "        \n",
    "        label1 = tk.Label(self, text=\"Email:\")\n",
    "        label1.pack()\n",
    "        self.email = StringVar()\n",
    "        entryemail = tk.Entry(self, textvariable=self.email)\n",
    "        entryemail.pack()\n",
    "\n",
    "        label = tk.Label(self, text=\"Instansi\")\n",
    "        label.pack()\n",
    "        self.instansi = StringVar()\n",
    "        entryinstansi = tk.Entry(self, textvariable=self.instansi)\n",
    "        entryinstansi.pack()\n",
    "\n",
    "        button5 = tk.Button(self, text='Submit', command=self.submit)\n",
    "        button5.pack()\n",
    "\n",
    "    def submit(self):\n",
    "        nama1 = self.nama.get()\n",
    "        email1 = self.email.get()\n",
    "        instansi1 = self.instansi.get()\n",
    "        showinfo(message=f'Terimakasih, data anda telah tersimpan\\nNama:{nama1}\\nEmail: {email1}\\nInstansi: {instansi1}')\n",
    "\n",
    "\n",
    "\n",
    "# class Sub_class2(tk.Toplevel):\n",
    "#     def _init_(self, master):\n",
    "#         self.master = master\n",
    "#         super()._init_(master)\n",
    "#         label = tk.Label(self, text=\"This is sub app two\")\n",
    "#         label.pack(padx=50, pady=50)\n",
    "\n",
    "# class Sub_class3(tk.Toplevel):\n",
    "#     def _init_(self, master):\n",
    "#         self.master = master\n",
    "#         super()._init_(master)\n",
    "#         label = tk.Label(self, text=\"This is sub app three\")\n",
    "#         label.pack(padx=50, pady=50)\n",
    "        \n",
    "main = Main()\n",
    "main.mainloop()"
   ]
  },
  {
   "cell_type": "code",
   "execution_count": 3,
   "metadata": {},
   "outputs": [
    {
     "ename": "TclError",
     "evalue": "expected integer but got \"bold\"",
     "output_type": "error",
     "traceback": [
      "\u001b[1;31m---------------------------------------------------------------------------\u001b[0m",
      "\u001b[1;31mTclError\u001b[0m                                  Traceback (most recent call last)",
      "Cell \u001b[1;32mIn [3], line 12\u001b[0m\n\u001b[0;32m      9\u001b[0m background \u001b[39m=\u001b[39m \u001b[39m\"\u001b[39m\u001b[39m#f2e750\u001b[39m\u001b[39m\"\u001b[39m\n\u001b[0;32m     10\u001b[0m foreground\u001b[39m=\u001b[39m \u001b[39m\"\u001b[39m\u001b[39m#363529\u001b[39m\u001b[39m\"\u001b[39m\n\u001b[1;32m---> 12\u001b[0m label \u001b[39m=\u001b[39m Label(app_window, font\u001b[39m=\u001b[39;49mtext_font, bg\u001b[39m=\u001b[39;49mbackground, fg\u001b[39m=\u001b[39;49mforeground) \n\u001b[0;32m     13\u001b[0m label\u001b[39m.\u001b[39mpack()\n\u001b[0;32m     15\u001b[0m \u001b[39mdef\u001b[39;00m \u001b[39mdigital_clock\u001b[39m(): \n",
      "File \u001b[1;32mc:\\Users\\acer\\AppData\\Local\\Programs\\Python\\Python310\\lib\\tkinter\\__init__.py:3177\u001b[0m, in \u001b[0;36mLabel.__init__\u001b[1;34m(self, master, cnf, **kw)\u001b[0m\n\u001b[0;32m   3159\u001b[0m \u001b[39mdef\u001b[39;00m \u001b[39m__init__\u001b[39m(\u001b[39mself\u001b[39m, master\u001b[39m=\u001b[39m\u001b[39mNone\u001b[39;00m, cnf\u001b[39m=\u001b[39m{}, \u001b[39m*\u001b[39m\u001b[39m*\u001b[39mkw):\n\u001b[0;32m   3160\u001b[0m     \u001b[39m\"\"\"Construct a label widget with the parent MASTER.\u001b[39;00m\n\u001b[0;32m   3161\u001b[0m \n\u001b[0;32m   3162\u001b[0m \u001b[39m    STANDARD OPTIONS\u001b[39;00m\n\u001b[1;32m   (...)\u001b[0m\n\u001b[0;32m   3175\u001b[0m \n\u001b[0;32m   3176\u001b[0m \u001b[39m    \"\"\"\u001b[39;00m\n\u001b[1;32m-> 3177\u001b[0m     Widget\u001b[39m.\u001b[39;49m\u001b[39m__init__\u001b[39;49m(\u001b[39mself\u001b[39;49m, master, \u001b[39m'\u001b[39;49m\u001b[39mlabel\u001b[39;49m\u001b[39m'\u001b[39;49m, cnf, kw)\n",
      "File \u001b[1;32mc:\\Users\\acer\\AppData\\Local\\Programs\\Python\\Python310\\lib\\tkinter\\__init__.py:2601\u001b[0m, in \u001b[0;36mBaseWidget.__init__\u001b[1;34m(self, master, widgetName, cnf, kw, extra)\u001b[0m\n\u001b[0;32m   2599\u001b[0m \u001b[39mfor\u001b[39;00m k, v \u001b[39min\u001b[39;00m classes:\n\u001b[0;32m   2600\u001b[0m     \u001b[39mdel\u001b[39;00m cnf[k]\n\u001b[1;32m-> 2601\u001b[0m \u001b[39mself\u001b[39;49m\u001b[39m.\u001b[39;49mtk\u001b[39m.\u001b[39;49mcall(\n\u001b[0;32m   2602\u001b[0m     (widgetName, \u001b[39mself\u001b[39;49m\u001b[39m.\u001b[39;49m_w) \u001b[39m+\u001b[39;49m extra \u001b[39m+\u001b[39;49m \u001b[39mself\u001b[39;49m\u001b[39m.\u001b[39;49m_options(cnf))\n\u001b[0;32m   2603\u001b[0m \u001b[39mfor\u001b[39;00m k, v \u001b[39min\u001b[39;00m classes:\n\u001b[0;32m   2604\u001b[0m     k\u001b[39m.\u001b[39mconfigure(\u001b[39mself\u001b[39m, v)\n",
      "\u001b[1;31mTclError\u001b[0m: expected integer but got \"bold\""
     ]
    }
   ],
   "source": []
  },
  {
   "cell_type": "code",
   "execution_count": null,
   "metadata": {},
   "outputs": [],
   "source": [
    "set1 = {10, 20, 30, 40, 50}\n",
    "set2 = {60, 70, 80, 90, 10}\n",
    "if s1.isdisjoint(s2):\n",
    "    print('kedua set disjoint')\n",
    "else:\n",
    "    print('kedua set ada irisan')\n",
    "\n",
    "    "
   ]
  },
  {
   "cell_type": "code",
   "execution_count": 10,
   "metadata": {},
   "outputs": [],
   "source": [
    "# Gunakan alias tk untuk memanggil tkinter\n",
    "import tkinter as tk\n",
    "# Buat class utama yang muncul di halaman utama\n",
    "class Main(tk.Tk):\n",
    "    # Buat constructor class parent\n",
    "    def __init__(self):\n",
    "    # inherit class dari class GUI Tkinter\n",
    "        super().__init__()\n",
    "    # Buat Button untuk membuka top class\n",
    "        button1 = tk.Button(self, text=\"Open Sub App One\", command=self.open_subclass)\n",
    "        button1.pack(padx=20, pady=20)\n",
    "        button2 = tk.Button(self, text=\"buka njing\", command=self.open_subclass1)\n",
    "        button2.pack(padx=20, pady=20)\n",
    "    # Buat def fuction untuk membuka top class\n",
    "    def open_subclass(self):\n",
    "        Sub_class(self)\n",
    "    def open_subclass1(self):\n",
    "        Sub_class1(self)\n",
    "    # Buat top class (sub kelas)\n",
    "class Sub_class(tk.Toplevel):\n",
    "    # Buat constructor sub class, inherit dari class Main (master)\n",
    "    def __init__(self, master):\n",
    "        self.master = master\n",
    "        super().__init__(master)\n",
    "        button1 = tk.Button(self, text=\"Open Sub App One\", command=self.open_subclass)\n",
    "        button1.pack(padx=20, pady=20)\n",
    "        label = tk.Label(self, text=\"This is sub app one\")\n",
    "        label.pack(padx=50, pady=50)\n",
    "class Sub_class1(tk.Toplevel):\n",
    "    # Buat constructor sub class, inherit dari class Main (master)\n",
    "    def __init__(self, master):\n",
    "        self.master = master\n",
    "        super().__init__(master)\n",
    "        label = tk.Label(self, text=\"tadaaa\")\n",
    "        label.pack(padx=50, pady=50)\n",
    "main = Main()\n",
    "main.mainloop()"
   ]
  },
  {
   "cell_type": "code",
   "execution_count": null,
   "metadata": {},
   "outputs": [
    {
     "name": "stdout",
     "output_type": "stream",
     "text": [
      "huruf=13\n",
      "angka=4\n",
      "simbol=3\n"
     ]
    }
   ],
   "source": [
    "kata = '#2022GoalsComeTrue!!'\n",
    "huruf = 0\n",
    "angka = 0\n",
    "simbol = 0\n",
    "\n",
    "for i in kata:\n",
    "    if i.isalpha() == True:\n",
    "        huruf += 1\n",
    "    elif i.isdigit() == True:\n",
    "        angka += 1\n",
    "    else:\n",
    "        simbol += 1\n",
    "\n",
    "\n",
    "print(f'huruf={huruf}')\n",
    "print(f'angka={angka}')\n",
    "print(f'simbol={simbol}')"
   ]
  },
  {
   "cell_type": "code",
   "execution_count": null,
   "metadata": {},
   "outputs": [
    {
     "name": "stdout",
     "output_type": "stream",
     "text": [
      "4\n",
      "4\n"
     ]
    }
   ],
   "source": [
    "kalimat = '''Menteri Kesehatan Republik Indonesia (Menkes RI) Budi Gunadi Sadikin\n",
    "menyoroti makanan dan minuman yang memiliki kadar gula tinggi dan\n",
    "berpotensi menimbulkan penyakit diabetes. Budi mengungkap 13 persen dari\n",
    "penduduk Indonesia mengalami penyakit diabetes tiap tahunnya. Memang\n",
    "diabetes di Indonesia naik tinggi dari tahun ke tahun. Terakhir saya\n",
    "lihat 13 persen dari penduduk Indonesia itu diabetes'''\n",
    "\n",
    "x = kalimat.lower()\n",
    "a= input('masukkan kata: ')\n",
    "\n",
    "print(x.count(a))\n",
    "print(x.count('indonesia'))\n"
   ]
  },
  {
   "cell_type": "code",
   "execution_count": null,
   "metadata": {},
   "outputs": [
    {
     "ename": "TypeError",
     "evalue": "'list' object is not callable",
     "output_type": "error",
     "traceback": [
      "\u001b[1;31m---------------------------------------------------------------------------\u001b[0m",
      "\u001b[1;31mTypeError\u001b[0m                                 Traceback (most recent call last)",
      "Cell \u001b[1;32mIn [8], line 3\u001b[0m\n\u001b[0;32m      1\u001b[0m angka \u001b[39m=\u001b[39m [\u001b[39m2\u001b[39m, \u001b[39m2\u001b[39m, \u001b[39m3\u001b[39m, \u001b[39m4\u001b[39m, \u001b[39m12\u001b[39m, \u001b[39m5\u001b[39m, \u001b[39m2\u001b[39m, \u001b[39m5\u001b[39m, \u001b[39m7\u001b[39m, \u001b[39m3\u001b[39m, \u001b[39m10\u001b[39m, \u001b[39m11\u001b[39m, \u001b[39m2\u001b[39m, \u001b[39m1\u001b[39m, \u001b[39m3\u001b[39m, \u001b[39m5\u001b[39m, \u001b[39m4\u001b[39m, \u001b[39m6\u001b[39m, \u001b[39m12\u001b[39m, \u001b[39m0\u001b[39m, \u001b[39m1\u001b[39m, \u001b[39m2\u001b[39m]\n\u001b[0;32m      2\u001b[0m x \u001b[39m=\u001b[39m \u001b[39mint\u001b[39m(\u001b[39minput\u001b[39m(\u001b[39m'\u001b[39m\u001b[39mmasukkan angka\u001b[39m\u001b[39m'\u001b[39m))\n\u001b[1;32m----> 3\u001b[0m \u001b[39mfor\u001b[39;00m i \u001b[39min\u001b[39;00m angka():\n\u001b[0;32m      4\u001b[0m     \u001b[39mif\u001b[39;00m angka \u001b[39m==\u001b[39m x:\n\u001b[0;32m      5\u001b[0m         z \u001b[39m=\u001b[39m angka\u001b[39m.\u001b[39mremove(x)\n",
      "\u001b[1;31mTypeError\u001b[0m: 'list' object is not callable"
     ]
    }
   ],
   "source": [
    "angka = [2, 2, 3, 4, 12, 5, 2, 5, 7, 3, 10, 11, 2, 1, 3, 5, 4, 6, 12, 0, 1, 2]\n",
    "x = int(input('masukkan angka'))\n",
    "for i in angka():\n",
    "    if angka == x:\n",
    "        z = angka.remove(x)\n",
    "        print(z)\n",
    "print(angka)"
   ]
  },
  {
   "cell_type": "code",
   "execution_count": null,
   "metadata": {},
   "outputs": [
    {
     "name": "stdout",
     "output_type": "stream",
     "text": [
      "{'Satuan': 0, 'Puluhan': 10, 'Ratusan': 100, 'Ribuan': 1000}\n"
     ]
    }
   ],
   "source": [
    "list1 = ['Satuan', 'Puluhan', 'Ratusan', 'Ribuan']\n",
    "list2 = [0, 10, 100, 1000]\n",
    "int_dict = dict(zip(list1,list2))\n",
    "print(int_dict)"
   ]
  },
  {
   "cell_type": "code",
   "execution_count": null,
   "metadata": {},
   "outputs": [
    {
     "name": "stdout",
     "output_type": "stream",
     "text": [
      "{'Indonesia': 4}\n"
     ]
    }
   ],
   "source": [
    "kalimat = '''Menteri Kesehatan Republik Indonesia (Menkes RI) Budi Gunadi Sadikin\n",
    "menyoroti makanan dan minuman yang memiliki kadar gula tinggi dan\n",
    "berpotensi menimbulkan penyakit diabetes. Budi mengungkap 13 persen dari\n",
    "penduduk Indonesia mengalami penyakit diabetes tiap tahunnya. Memang\n",
    "diabetes di Indonesia naik tinggi dari tahun ke tahun. Terakhir saya\n",
    "lihat 13 persen dari penduduk Indonesia itu diabetes'''\n",
    "kata = input('masukkan kata')\n",
    "vkosong = []\n",
    "vkosong.append(kata)\n",
    "y = kalimat.count(kata)\n",
    "xkosong = []\n",
    "xkosong.append(y)\n",
    "int_dict = dict(zip(vkosong,xkosong))\n",
    "print(int_dict)"
   ]
  },
  {
   "cell_type": "code",
   "execution_count": null,
   "metadata": {},
   "outputs": [
    {
     "name": "stdout",
     "output_type": "stream",
     "text": [
      "55\n"
     ]
    }
   ],
   "source": [
    "def addition(num):\n",
    "    if num :\n",
    "        return num + addition(num-1)\n",
    "    else:\n",
    "        return 0\n",
    "res = addition(10)\n",
    "print(res)"
   ]
  },
  {
   "cell_type": "code",
   "execution_count": null,
   "metadata": {},
   "outputs": [
    {
     "name": "stdout",
     "output_type": "stream",
     "text": [
      "6\t:5\n",
      "6\t:10\n",
      "6\t:30\n",
      "6\t:120\n",
      "6\t:600\n",
      "6\t:3600\n"
     ]
    }
   ],
   "source": [
    "n = int(input('masukkan nilai n:'))\n",
    "faktorial = 5\n",
    "for i in range(1, n+1):\n",
    "    faktorial *= i\n",
    "    print(f'{n}\\t:{faktorial}')"
   ]
  },
  {
   "cell_type": "code",
   "execution_count": null,
   "metadata": {},
   "outputs": [
    {
     "name": "stdout",
     "output_type": "stream",
     "text": [
      "22031554017\n"
     ]
    }
   ],
   "source": [
    "def selamat_datang():\n",
    "    x = input('masukkan nim: ')\n",
    "    y = ''\n",
    "    nimdef = '22031554'\n",
    "    while len(x) != 3:\n",
    "        print(\"harus 3 digit!\")\n",
    "        x = input('masukkan ulang: ')\n",
    "    else:\n",
    "        z = (nimdef + x) + y\n",
    "        print(z)\n",
    "        \n",
    "selamat_datang()"
   ]
  },
  {
   "cell_type": "code",
   "execution_count": null,
   "metadata": {},
   "outputs": [
    {
     "name": "stdout",
     "output_type": "stream",
     "text": [
      "inside 'fun', x has the value 5\n",
      "Outside 'fun', x has the value Hello, Python!\n"
     ]
    }
   ],
   "source": [
    "def fun():\n",
    "    x = 5\n",
    "    print(f\"inside 'fun', x has the value {x}\")\n",
    "\n",
    "x = \"Hello, Python!\"\n",
    "fun()\n",
    "print(f\"Outside 'fun', x has the value {x}\")\n",
    "\n"
   ]
  },
  {
   "cell_type": "code",
   "execution_count": null,
   "metadata": {},
   "outputs": [
    {
     "name": "stdout",
     "output_type": "stream",
     "text": [
      "positive\n",
      "negative\n",
      "zero\n"
     ]
    }
   ],
   "source": [
    "def possitive_negative_zero(number):\n",
    "    if number > 0 :\n",
    "        return \"positive\"\n",
    "    elif number < 0 :\n",
    "        return \"negative\"\n",
    "    else:\n",
    "        return \"zero\"\n",
    "print(possitive_negative_zero(5))\n",
    "print(possitive_negative_zero(-2.5))\n",
    "print(possitive_negative_zero(0))\n",
    "\n"
   ]
  },
  {
   "cell_type": "code",
   "execution_count": null,
   "metadata": {},
   "outputs": [],
   "source": [
    "def outer_fun(a,b):\n",
    "    square=a**2\n",
    "    def addition ( a,b):\n",
    "        return a+b\n",
    "    add = addition( a, b)\n",
    "    return add+5\n",
    "result=outer_fun(5,10)\n",
    "print(result)"
   ]
  },
  {
   "cell_type": "code",
   "execution_count": null,
   "metadata": {},
   "outputs": [],
   "source": [
    "def addition (num):\n",
    "    if num:\n",
    "        return num * addition ( num - 1)\n",
    "    else:\n",
    "        return 1\n",
    "    \n",
    "res = addition(7)\n",
    "print(res)"
   ]
  },
  {
   "cell_type": "code",
   "execution_count": null,
   "metadata": {},
   "outputs": [],
   "source": [
    "import math \n",
    "def get_vertex():\n",
    "    x = float(input(\"enter x\"))\n",
    "    x = float(input(\"enter y\"))\n",
    "    return x,y\n",
    "def get_trianggle():\n",
    "    print('first vertex')\n",
    "    "
   ]
  },
  {
   "cell_type": "code",
   "execution_count": null,
   "metadata": {},
   "outputs": [
    {
     "name": "stdout",
     "output_type": "stream",
     "text": [
      "pkn\n",
      "binggris\n",
      "bindo\n",
      "pemrograman dasar \n",
      "kalkulus\n",
      "probabilitas\n",
      "penjas\n"
     ]
    }
   ],
   "source": [
    "file = open('database buku.txt')\n"
   ]
  },
  {
   "cell_type": "code",
   "execution_count": null,
   "metadata": {},
   "outputs": [
    {
     "name": "stdout",
     "output_type": "stream",
     "text": [
      "hendro is 80 years old\n"
     ]
    }
   ],
   "source": [
    "class cat():\n",
    "    def __init__(self,nama,umur):\n",
    "        self.name = nama\n",
    "        self.age = umur\n",
    "    def description (self):\n",
    "        return f\"Perkenalkan kucing saya bernama{self.name} is {self.age} years old\"\n",
    "    def __str__(self):\n",
    "        return f'{self.name} is {self.age} years old'\n",
    "    def get_age(self):\n",
    "        return self.age\n",
    "kucing1 = cat('hendro',80)\n",
    "a = kucing1.__str__()\n",
    "print(a)\n",
    "    "
   ]
  },
  {
   "cell_type": "markdown",
   "metadata": {},
   "source": [
    "no 1"
   ]
  },
  {
   "cell_type": "code",
   "execution_count": 12,
   "metadata": {},
   "outputs": [
    {
     "name": "stdout",
     "output_type": "stream",
     "text": [
      "10\n",
      "14\n"
     ]
    }
   ],
   "source": [
    "class persegi_panjang():\n",
    "    def __init__(self,panjang,lebar):\n",
    "        self.length = panjang\n",
    "        self.width = lebar\n",
    "    def luas(self):\n",
    "        return self.length*self.width\n",
    "    def keliling(self):\n",
    "        return 2*(self.length + self.width)\n",
    "p = int(input(\"masukkan panjang: \"))\n",
    "l = int(input(\"masukkan lebar: \"))\n",
    "lu = persegi_panjang(p,l)\n",
    "L = lu.luas()\n",
    "K = lu.keliling()\n",
    "print(L)\n",
    "print(K)"
   ]
  },
  {
   "cell_type": "code",
   "execution_count": 7,
   "metadata": {},
   "outputs": [
    {
     "name": "stdout",
     "output_type": "stream",
     "text": [
      "rizky\n"
     ]
    }
   ],
   "source": [
    "class animal():\n",
    "    def __init__(self,name,age):\n",
    "        self.name = name\n",
    "        self.age = age\n",
    "    def eats(self):\n",
    "        print(self.name,'is eating...') \n",
    "        \n",
    "class burung(animal):\n",
    "    \n",
    "    def __init__(self, name, age, colour):\n",
    "        super().__init__(name, age)\n",
    "        self.colour = colour\n",
    "\n",
    "bird1 = burung(\"rizky\", 23, \"nigga\")\n",
    "print(bird1.name)"
   ]
  },
  {
   "cell_type": "markdown",
   "metadata": {},
   "source": [
    "no 4"
   ]
  },
  {
   "cell_type": "code",
   "execution_count": 16,
   "metadata": {},
   "outputs": [
    {
     "name": "stdout",
     "output_type": "stream",
     "text": [
      "Masukkan nama anda: \n",
      "Masukkan nim anda: \n",
      "1.Masuk Zoom\n",
      "2.keluar Zoom\n",
      "masukkan nomer\n",
      "None\n"
     ]
    }
   ],
   "source": [
    "from secrets import choice\n",
    "\n",
    "\n",
    "class attendee():\n",
    "    total = 0\n",
    "    def __init__(self,nama,nim):\n",
    "        self.name = nama\n",
    "        self.id = nim\n",
    "    def menu(self):\n",
    "        print('1.Masuk Zoom') \n",
    "        print('2.keluar Zoom')\n",
    "        print('masukkan nomer')\n",
    "        choice = int(input())\n",
    "        if choice == 1:\n",
    "            f'{self.name} telah masuk zoom'\n",
    "        elif choice ==2:\n",
    "            f'{self.name} telah keluar zoom'\n",
    "        else:\n",
    "            f'nomer yang anda masukan salah'\n",
    "print(\"Masukkan nama anda: \")\n",
    "nama = input()\n",
    "print(\"Masukkan nim anda: \")\n",
    "nim = int(input())\n",
    "lu = attendee(nama,nim)\n",
    "l = lu.menu()\n",
    "print(l)"
   ]
  },
  {
   "cell_type": "code",
   "execution_count": null,
   "metadata": {},
   "outputs": [],
   "source": [
    "bindo_jawa = {\n",
    "    \"satu\":\"siji\",\n",
    "    \"dua\":\"loro\",\n",
    "    \"tiga\":\"telu\",\n",
    "    \"empat\":\"papat\",\n",
    "    \"lima\":\"gangsal\",\n",
    "    \"enam\":\"enem\",\n",
    "    \"tujuh\":\"pitu\",\n",
    "    \"delapan\":\"wolu\",\n",
    "    \"sembilan\":\"songo\",\n",
    "    \"sepuluh\":\"sedasa\",\n",
    "    \"sebelas\":\"sewelas\",\n",
    "    \"Dua belas\":\"rolas\",\n",
    "    \"Tiga belas\":\"telulas\",\n",
    "    \"Empat belas\":\"patbelas\",\n",
    "    \"Lima belas\":\"limolas\",\n",
    "    \"Enam belas\":\"nembelas\",\n",
    "    \"Tujuh belas\":\"pitulas\",\n",
    "    \"Delapan belas\": \"wolulas\",\n",
    "    \"Sembilan belas\":\"songolas\",\n",
    "    \"Dua puluh\":\"rongpuluh\"\n",
    "}\n",
    "def kamus():\n",
    "    print(\"\"\"Peraturan meminjam buku:\n",
    "    1) Jumlah buku yang dapat dipinjam maks. 2 buku dengan periode peminjaman selama 7 hari.\n",
    "    2) Keterlambatan pengembalian buku dikenakan denda.\n",
    "    3) Apabila terjadi kehilangan buku, peminjam harus mengganti dengan buku yang sesuai.\"\"\")\n",
    "    print(\"========================================================================================\")"
   ]
  }
 ],
 "metadata": {
  "kernelspec": {
   "display_name": "Python 3.9.9 64-bit",
   "language": "python",
   "name": "python3"
  },
  "language_info": {
   "codemirror_mode": {
    "name": "ipython",
    "version": 3
   },
   "file_extension": ".py",
   "mimetype": "text/x-python",
   "name": "python",
   "nbconvert_exporter": "python",
   "pygments_lexer": "ipython3",
   "version": "3.9.9 (tags/v3.9.9:ccb0e6a, Nov 15 2021, 18:08:50) [MSC v.1929 64 bit (AMD64)]"
  },
  "orig_nbformat": 4,
  "vscode": {
   "interpreter": {
    "hash": "8f5816e6188795d1cc8afa4306b69c5e3a103f064a75e820fe776234e4cf83e8"
   }
  }
 },
 "nbformat": 4,
 "nbformat_minor": 2
}
