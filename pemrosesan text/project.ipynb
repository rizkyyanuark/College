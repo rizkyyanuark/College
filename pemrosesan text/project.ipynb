{
 "cells": [
  {
   "cell_type": "code",
   "execution_count": 13,
   "metadata": {},
   "outputs": [
    {
     "name": "stderr",
     "output_type": "stream",
     "text": [
      "C:\\Users\\rizky\\AppData\\Local\\Temp\\ipykernel_32740\\258351020.py:21: FutureWarning: The frame.append method is deprecated and will be removed from pandas in a future version. Use pandas.concat instead.\n",
      "  combined_data = combined_data.append(data, ignore_index=True)\n",
      "C:\\Users\\rizky\\AppData\\Local\\Temp\\ipykernel_32740\\258351020.py:21: FutureWarning: The frame.append method is deprecated and will be removed from pandas in a future version. Use pandas.concat instead.\n",
      "  combined_data = combined_data.append(data, ignore_index=True)\n",
      "C:\\Users\\rizky\\AppData\\Local\\Temp\\ipykernel_32740\\258351020.py:21: FutureWarning: The frame.append method is deprecated and will be removed from pandas in a future version. Use pandas.concat instead.\n",
      "  combined_data = combined_data.append(data, ignore_index=True)\n",
      "C:\\Users\\rizky\\AppData\\Local\\Temp\\ipykernel_32740\\258351020.py:21: FutureWarning: The frame.append method is deprecated and will be removed from pandas in a future version. Use pandas.concat instead.\n",
      "  combined_data = combined_data.append(data, ignore_index=True)\n",
      "C:\\Users\\rizky\\AppData\\Local\\Temp\\ipykernel_32740\\258351020.py:21: FutureWarning: The frame.append method is deprecated and will be removed from pandas in a future version. Use pandas.concat instead.\n",
      "  combined_data = combined_data.append(data, ignore_index=True)\n",
      "C:\\Users\\rizky\\AppData\\Local\\Temp\\ipykernel_32740\\258351020.py:21: FutureWarning: The frame.append method is deprecated and will be removed from pandas in a future version. Use pandas.concat instead.\n",
      "  combined_data = combined_data.append(data, ignore_index=True)\n",
      "C:\\Users\\rizky\\AppData\\Local\\Temp\\ipykernel_32740\\258351020.py:21: FutureWarning: The frame.append method is deprecated and will be removed from pandas in a future version. Use pandas.concat instead.\n",
      "  combined_data = combined_data.append(data, ignore_index=True)\n",
      "C:\\Users\\rizky\\AppData\\Local\\Temp\\ipykernel_32740\\258351020.py:21: FutureWarning: The frame.append method is deprecated and will be removed from pandas in a future version. Use pandas.concat instead.\n",
      "  combined_data = combined_data.append(data, ignore_index=True)\n",
      "C:\\Users\\rizky\\AppData\\Local\\Temp\\ipykernel_32740\\258351020.py:21: FutureWarning: The frame.append method is deprecated and will be removed from pandas in a future version. Use pandas.concat instead.\n",
      "  combined_data = combined_data.append(data, ignore_index=True)\n",
      "C:\\Users\\rizky\\AppData\\Local\\Temp\\ipykernel_32740\\258351020.py:21: FutureWarning: The frame.append method is deprecated and will be removed from pandas in a future version. Use pandas.concat instead.\n",
      "  combined_data = combined_data.append(data, ignore_index=True)\n",
      "C:\\Users\\rizky\\AppData\\Local\\Temp\\ipykernel_32740\\258351020.py:21: FutureWarning: The frame.append method is deprecated and will be removed from pandas in a future version. Use pandas.concat instead.\n",
      "  combined_data = combined_data.append(data, ignore_index=True)\n",
      "C:\\Users\\rizky\\AppData\\Local\\Temp\\ipykernel_32740\\258351020.py:21: FutureWarning: The frame.append method is deprecated and will be removed from pandas in a future version. Use pandas.concat instead.\n",
      "  combined_data = combined_data.append(data, ignore_index=True)\n"
     ]
    }
   ],
   "source": [
    "import os\n",
    "import pandas as pd\n",
    "\n",
    "# set the directory path\n",
    "directory = \"scrap\"\n",
    "\n",
    "# create an empty dataframe to store the combined data\n",
    "combined_data = pd.DataFrame()\n",
    "\n",
    "# loop through all the files in the directory\n",
    "for filename in os.listdir(directory):\n",
    "    if filename.endswith(\".csv\"):\n",
    "        # read the csv file into a dataframe\n",
    "        filepath = os.path.join(directory, filename)\n",
    "        data = pd.read_csv(filepath)\n",
    "        \n",
    "        # select only column 14\n",
    "        data = data.iloc[:, 13:14]\n",
    "        \n",
    "        # append the data to the combined dataframe\n",
    "        combined_data = combined_data.append(data, ignore_index=True)\n",
    "\n",
    "# write the combined data to a csv file\n",
    "combined_data.to_csv(\"combined_data.csv\", index=False)\n"
   ]
  },
  {
   "cell_type": "code",
   "execution_count": 2,
   "metadata": {},
   "outputs": [
    {
     "ename": "Forbidden",
     "evalue": "403 Forbidden\nYour client app is not configured with the appropriate oauth1 app permissions for this endpoint.",
     "output_type": "error",
     "traceback": [
      "\u001b[1;31m---------------------------------------------------------------------------\u001b[0m",
      "\u001b[1;31mForbidden\u001b[0m                                 Traceback (most recent call last)",
      "\u001b[1;32mc:\\Users\\rizky\\OneDrive\\Dokumen\\GitHub\\test\\testpython\\pemrosesan text\\project.ipynb Cell 2\u001b[0m line \u001b[0;36m7\n\u001b[0;32m      <a href='vscode-notebook-cell:/c%3A/Users/rizky/OneDrive/Dokumen/GitHub/test/testpython/pemrosesan%20text/project.ipynb#W1sZmlsZQ%3D%3D?line=1'>2</a>\u001b[0m client \u001b[39m=\u001b[39m tweepy\u001b[39m.\u001b[39mClient(consumer_key\u001b[39m=\u001b[39m\u001b[39m\"\u001b[39m\u001b[39mNoRiZn6TEaz7YT49K4py275DD\u001b[39m\u001b[39m\"\u001b[39m,\n\u001b[0;32m      <a href='vscode-notebook-cell:/c%3A/Users/rizky/OneDrive/Dokumen/GitHub/test/testpython/pemrosesan%20text/project.ipynb#W1sZmlsZQ%3D%3D?line=2'>3</a>\u001b[0m                     consumer_secret\u001b[39m=\u001b[39m\u001b[39m\"\u001b[39m\u001b[39mGLigM1ildOMfiWpakAoyAp7giAvBvSnbYONAXN7VYxcaWybIDs\u001b[39m\u001b[39m\"\u001b[39m,\n\u001b[0;32m      <a href='vscode-notebook-cell:/c%3A/Users/rizky/OneDrive/Dokumen/GitHub/test/testpython/pemrosesan%20text/project.ipynb#W1sZmlsZQ%3D%3D?line=3'>4</a>\u001b[0m                     access_token\u001b[39m=\u001b[39m\u001b[39m\"\u001b[39m\u001b[39m1211120901443354625-BEL7rYdywuka5hDjISZe7QIfYZGTtp\u001b[39m\u001b[39m\"\u001b[39m,\n\u001b[0;32m      <a href='vscode-notebook-cell:/c%3A/Users/rizky/OneDrive/Dokumen/GitHub/test/testpython/pemrosesan%20text/project.ipynb#W1sZmlsZQ%3D%3D?line=4'>5</a>\u001b[0m                     access_token_secret\u001b[39m=\u001b[39m\u001b[39m\"\u001b[39m\u001b[39mxD6venaCDH7ZJYOPAHySOq7BwzYlsJBrreRIKfk6XwEUm\u001b[39m\u001b[39m\"\u001b[39m)\n\u001b[0;32m      <a href='vscode-notebook-cell:/c%3A/Users/rizky/OneDrive/Dokumen/GitHub/test/testpython/pemrosesan%20text/project.ipynb#W1sZmlsZQ%3D%3D?line=5'>6</a>\u001b[0m \u001b[39m# Replace the text with whatever you want to Tweet about\u001b[39;00m\n\u001b[1;32m----> <a href='vscode-notebook-cell:/c%3A/Users/rizky/OneDrive/Dokumen/GitHub/test/testpython/pemrosesan%20text/project.ipynb#W1sZmlsZQ%3D%3D?line=6'>7</a>\u001b[0m response \u001b[39m=\u001b[39m client\u001b[39m.\u001b[39;49mcreate_tweet(text\u001b[39m=\u001b[39;49m\u001b[39m'\u001b[39;49m\u001b[39mlrt jabodebek\u001b[39;49m\u001b[39m'\u001b[39;49m)\n",
      "File \u001b[1;32m~\\AppData\\Local\\Packages\\PythonSoftwareFoundation.Python.3.10_qbz5n2kfra8p0\\LocalCache\\local-packages\\Python310\\site-packages\\tweepy\\client.py:835\u001b[0m, in \u001b[0;36mClient.create_tweet\u001b[1;34m(self, direct_message_deep_link, for_super_followers_only, place_id, media_ids, media_tagged_user_ids, poll_duration_minutes, poll_options, quote_tweet_id, exclude_reply_user_ids, in_reply_to_tweet_id, reply_settings, text, user_auth)\u001b[0m\n\u001b[0;32m    832\u001b[0m \u001b[39mif\u001b[39;00m text \u001b[39mis\u001b[39;00m \u001b[39mnot\u001b[39;00m \u001b[39mNone\u001b[39;00m:\n\u001b[0;32m    833\u001b[0m     json[\u001b[39m\"\u001b[39m\u001b[39mtext\u001b[39m\u001b[39m\"\u001b[39m] \u001b[39m=\u001b[39m text\n\u001b[1;32m--> 835\u001b[0m \u001b[39mreturn\u001b[39;00m \u001b[39mself\u001b[39;49m\u001b[39m.\u001b[39;49m_make_request(\n\u001b[0;32m    836\u001b[0m     \u001b[39m\"\u001b[39;49m\u001b[39mPOST\u001b[39;49m\u001b[39m\"\u001b[39;49m, \u001b[39mf\u001b[39;49m\u001b[39m\"\u001b[39;49m\u001b[39m/2/tweets\u001b[39;49m\u001b[39m\"\u001b[39;49m, json\u001b[39m=\u001b[39;49mjson, user_auth\u001b[39m=\u001b[39;49muser_auth\n\u001b[0;32m    837\u001b[0m )\n",
      "File \u001b[1;32m~\\AppData\\Local\\Packages\\PythonSoftwareFoundation.Python.3.10_qbz5n2kfra8p0\\LocalCache\\local-packages\\Python310\\site-packages\\tweepy\\client.py:129\u001b[0m, in \u001b[0;36mBaseClient._make_request\u001b[1;34m(self, method, route, params, endpoint_parameters, json, data_type, user_auth)\u001b[0m\n\u001b[0;32m    123\u001b[0m \u001b[39mdef\u001b[39;00m \u001b[39m_make_request\u001b[39m(\n\u001b[0;32m    124\u001b[0m     \u001b[39mself\u001b[39m, method, route, params\u001b[39m=\u001b[39m{}, endpoint_parameters\u001b[39m=\u001b[39m(), json\u001b[39m=\u001b[39m\u001b[39mNone\u001b[39;00m,\n\u001b[0;32m    125\u001b[0m     data_type\u001b[39m=\u001b[39m\u001b[39mNone\u001b[39;00m, user_auth\u001b[39m=\u001b[39m\u001b[39mFalse\u001b[39;00m\n\u001b[0;32m    126\u001b[0m ):\n\u001b[0;32m    127\u001b[0m     request_params \u001b[39m=\u001b[39m \u001b[39mself\u001b[39m\u001b[39m.\u001b[39m_process_params(params, endpoint_parameters)\n\u001b[1;32m--> 129\u001b[0m     response \u001b[39m=\u001b[39m \u001b[39mself\u001b[39;49m\u001b[39m.\u001b[39;49mrequest(method, route, params\u001b[39m=\u001b[39;49mrequest_params,\n\u001b[0;32m    130\u001b[0m                             json\u001b[39m=\u001b[39;49mjson, user_auth\u001b[39m=\u001b[39;49muser_auth)\n\u001b[0;32m    132\u001b[0m     \u001b[39mif\u001b[39;00m \u001b[39mself\u001b[39m\u001b[39m.\u001b[39mreturn_type \u001b[39mis\u001b[39;00m requests\u001b[39m.\u001b[39mResponse:\n\u001b[0;32m    133\u001b[0m         \u001b[39mreturn\u001b[39;00m response\n",
      "File \u001b[1;32m~\\AppData\\Local\\Packages\\PythonSoftwareFoundation.Python.3.10_qbz5n2kfra8p0\\LocalCache\\local-packages\\Python310\\site-packages\\tweepy\\client.py:100\u001b[0m, in \u001b[0;36mBaseClient.request\u001b[1;34m(self, method, route, params, json, user_auth)\u001b[0m\n\u001b[0;32m     98\u001b[0m     \u001b[39mraise\u001b[39;00m Unauthorized(response)\n\u001b[0;32m     99\u001b[0m \u001b[39mif\u001b[39;00m response\u001b[39m.\u001b[39mstatus_code \u001b[39m==\u001b[39m \u001b[39m403\u001b[39m:\n\u001b[1;32m--> 100\u001b[0m     \u001b[39mraise\u001b[39;00m Forbidden(response)\n\u001b[0;32m    101\u001b[0m \u001b[39mif\u001b[39;00m response\u001b[39m.\u001b[39mstatus_code \u001b[39m==\u001b[39m \u001b[39m404\u001b[39m:\n\u001b[0;32m    102\u001b[0m     \u001b[39mraise\u001b[39;00m NotFound(response)\n",
      "\u001b[1;31mForbidden\u001b[0m: 403 Forbidden\nYour client app is not configured with the appropriate oauth1 app permissions for this endpoint."
     ]
    }
   ],
   "source": [
    "import tweepy\n",
    "client = tweepy.Client(consumer_key=\"NoRiZn6TEaz7YT49K4py275DD\",\n",
    "                    consumer_secret=\"GLigM1ildOMfiWpakAoyAp7giAvBvSnbYONAXN7VYxcaWybIDs\",\n",
    "                    access_token=\"1211120901443354625-BEL7rYdywuka5hDjISZe7QIfYZGTtp\",\n",
    "                    access_token_secret=\"xD6venaCDH7ZJYOPAHySOq7BwzYlsJBrreRIKfk6XwEUm\")\n",
    "# Replace the text with whatever you want to Tweet about\n",
    "response = client.create_tweet(text='lrt jabodebek')"
   ]
  }
 ],
 "metadata": {
  "kernelspec": {
   "display_name": "Python 3",
   "language": "python",
   "name": "python3"
  },
  "language_info": {
   "codemirror_mode": {
    "name": "ipython",
    "version": 3
   },
   "file_extension": ".py",
   "mimetype": "text/x-python",
   "name": "python",
   "nbconvert_exporter": "python",
   "pygments_lexer": "ipython3",
   "version": "3.10.11"
  }
 },
 "nbformat": 4,
 "nbformat_minor": 2
}
