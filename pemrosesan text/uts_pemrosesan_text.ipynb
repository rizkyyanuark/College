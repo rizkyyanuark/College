{
 "cells": [
  {
   "cell_type": "code",
   "execution_count": 1,
   "metadata": {},
   "outputs": [],
   "source": [
    "from nltk.corpus import stopwords\n",
    "from nltk.tokenize import word_tokenize\n",
    "from Sastrawi.Stemmer.StemmerFactory import StemmerFactory\n",
    "\n",
    "# Contoh teks\n",
    "text = \"Olahraga adalah kunci untuk menjaga kesehatan kita. Aktivitas fisik teratur membawa banyak manfaat, termasuk kesehatan fisik dan mental yang optimal. Olahraga bukan hanya tentang fisik tetapi juga tentang mental. Kegiatan ini membantu mengurangi stres, kecemasan, dan depresi. Manfaat olahraga mencakup kekuatan dan ketahanan tubuh. Latihan fisik memperkuat otot dan tulang, meningkatkan energi, dan meningkatkan daya tahan. Berolahraga merangsang produksi hormon endorfin, yang memberikan perasaan bahagia. Inilah mengapa orang yang berolahraga merasa lebih bahagia dan lebih positif. Pola hidup aktif mengurangi risiko penyakit jantung, diabetes, dan obesitas. Ini juga mendukung penurunan berat badan yang sehat.\"\n",
    "\n",
    "# Lowercasing\n",
    "text = text.lower()\n",
    "\n",
    "# Tokenisasi\n",
    "word_tokens = word_tokenize(text)\n",
    "\n",
    "# Menghapus Stopword\n",
    "stop_words = set(stopwords.words('indonesian'))\n",
    "filtered_text = [w for w in word_tokens if not w in stop_words]\n",
    "\n",
    "# Stemming\n",
    "factory = StemmerFactory()\n",
    "stemmer = factory.create_stemmer()\n",
    "stemmed_text = [stemmer.stem(w) for w in filtered_text]\n",
    "\n",
    "# Menyimpan hasil ke file txt\n",
    "with open('hasil_pemrosesan.txt', 'w') as f:\n",
    "    f.write('Hasil Lowercasing:\\n')\n",
    "    f.write(text + '\\n\\n')\n",
    "    f.write('Hasil Tokenisasi:\\n')\n",
    "    f.write(str(word_tokens) + '\\n\\n')\n",
    "    f.write('Hasil Filtering Stopwords:\\n')\n",
    "    f.write(str(filtered_text) + '\\n\\n')\n",
    "    f.write('Hasil Stemming:\\n')\n",
    "    f.write(str(stemmed_text) + '\\n')\n"
   ]
  }
 ],
 "metadata": {
  "kernelspec": {
   "display_name": "Python 3",
   "language": "python",
   "name": "python3"
  },
  "language_info": {
   "codemirror_mode": {
    "name": "ipython",
    "version": 3
   },
   "file_extension": ".py",
   "mimetype": "text/x-python",
   "name": "python",
   "nbconvert_exporter": "python",
   "pygments_lexer": "ipython3",
   "version": "3.10.11"
  }
 },
 "nbformat": 4,
 "nbformat_minor": 2
}
