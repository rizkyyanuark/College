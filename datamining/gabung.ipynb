{
 "cells": [
  {
   "cell_type": "code",
   "execution_count": 2,
   "metadata": {},
   "outputs": [],
   "source": [
    "import pandas as pd\n",
    "import re\n",
    "# Baca file CSV pertama\n",
    "df1 = pd.read_csv(r'C:\\Users\\rizky\\OneDrive\\Dokumen\\GitHub\\CollegeSpace\\College\\datamining\\combined_file.csv')\n",
    "\n",
    "# Baca file CSV kedua\n",
    "df2 = pd.read_csv(r'C:\\Users\\rizky\\OneDrive\\Dokumen\\GitHub\\CollegeSpace\\College\\datamining\\test3.csv')\n",
    "\n",
    "# Gabungkan kedua DataFrame\n",
    "df_combined = pd.concat([df1, df2])\n",
    "\n",
    "# Simpan DataFrame gabungan ke file CSV baru\n",
    "df_combined.to_csv('combined.csv', index=False)"
   ]
  }
 ],
 "metadata": {
  "kernelspec": {
   "display_name": "Python 3",
   "language": "python",
   "name": "python3"
  },
  "language_info": {
   "codemirror_mode": {
    "name": "ipython",
    "version": 3
   },
   "file_extension": ".py",
   "mimetype": "text/x-python",
   "name": "python",
   "nbconvert_exporter": "python",
   "pygments_lexer": "ipython3",
   "version": "3.11.9"
  }
 },
 "nbformat": 4,
 "nbformat_minor": 2
}
