{
 "cells": [
  {
   "cell_type": "markdown",
   "metadata": {},
   "source": [
    "### 🗣 Speech to Text! 🚀  "
   ]
  },
  {
   "cell_type": "code",
   "execution_count": 1,
   "metadata": {},
   "outputs": [],
   "source": [
    "import requests\n",
    "import time\n",
    "from pprint import pprint"
   ]
  },
  {
   "cell_type": "code",
   "execution_count": 2,
   "metadata": {},
   "outputs": [
    {
     "name": "stdout",
     "output_type": "stream",
     "text": [
      "\n"
     ]
    }
   ],
   "source": [
    "# Start by making sure the `assemblyai` package is installed.\n",
    "# If not, you can install it by running the following command:\n",
    "# pip install -U assemblyai\n",
    "#\n",
    "# Note: Some macOS users might need to use `pip3` instead of `pip`.\n",
    "\n",
    "import assemblyai as aai\n",
    "\n",
    "# replace with your API token\n",
    "aai.settings.api_key = f\"a0fc99b850ac4fb6b3474e2f75de478b\"\n",
    "\n",
    "# URL of the file to transcribe\n",
    "FILE_URL = r\"C:\\Users\\rizky\\OneDrive\\Dokumen\\GitHub\\test\\testpython\\project gui\\Recording (5).mp3\"\n",
    "\n",
    "transcriber = aai\n"
   ]
  },
  {
   "cell_type": "code",
   "execution_count": 8,
   "metadata": {},
   "outputs": [
    {
     "name": "stdout",
     "output_type": "stream",
     "text": [
      "transcript_id = '6dxisvbsrh-209a-48c8-8649-a579e8078aec'\n"
     ]
    }
   ],
   "source": [
    "BASE_URL = \"https://api.assemblyai.com/v2/transcript\"\n",
    "audio_url = 'https://1drv.ms/u/s!Ajur2XaRDYCHgb193XA0woyOUvefNw?e=IiWG7r'\n",
    "\n",
    "# You can get free API key from assemblyAI's website\n",
    "headers = {\n",
    "    'authorization': 'a0fc99b850ac4fb6b3474e2f75de478b', \n",
    "    'content-type': 'application/json'\n",
    "}\n",
    "request_body = {'audio_url': audio_url}\n",
    "\n",
    "resonse = requests.post(BASE_URL, json=request_body, headers=headers)\n",
    "transcript_id = resonse.json().get('id')\n",
    "print(f'{transcript_id = }')"
   ]
  },
  {
   "cell_type": "code",
   "execution_count": 9,
   "metadata": {},
   "outputs": [
    {
     "name": "stdout",
     "output_type": "stream",
     "text": [
      "processing\n",
      "error\n",
      "error\n",
      "error\n",
      "error\n",
      "error\n",
      "error\n",
      "error\n",
      "error\n",
      "error\n"
     ]
    }
   ],
   "source": [
    "url = f\"{BASE_URL}/{transcript_id}\"\n",
    "\n",
    "while True:\n",
    "    polling_response = requests.get(url, headers=headers)\n",
    "    polling_response = polling_response.json()\n",
    "    print(polling_response['status'])\n",
    "    if polling_response['status'] == 'completed':\n",
    "        break\n",
    "    time.sleep(20)\n",
    "    \n",
    "pprint(polling_response['text'])    "
   ]
  },
  {
   "cell_type": "code",
   "execution_count": null,
   "metadata": {},
   "outputs": [],
   "source": []
  }
 ],
 "metadata": {
  "kernelspec": {
   "display_name": "Python 3",
   "language": "python",
   "name": "python3"
  },
  "language_info": {
   "codemirror_mode": {
    "name": "ipython",
    "version": 3
   },
   "file_extension": ".py",
   "mimetype": "text/x-python",
   "name": "python",
   "nbconvert_exporter": "python",
   "pygments_lexer": "ipython3",
   "version": "3.10.11"
  }
 },
 "nbformat": 4,
 "nbformat_minor": 4
}
