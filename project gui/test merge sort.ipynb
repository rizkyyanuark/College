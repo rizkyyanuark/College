{
 "cells": [
  {
   "cell_type": "code",
   "execution_count": 9,
   "metadata": {},
   "outputs": [
    {
     "name": "stdout",
     "output_type": "stream",
     "text": [
      "Array sebelum diurutkan: [38, 27, 43, 3, 9, 82, 10]\n",
      "kiri [38, 27, 43]\n",
      "kanan [3, 9, 82, 10]\n",
      "kiri [38]\n",
      "kanan [27, 43]\n",
      "kiri [27]\n",
      "kanan [43]\n",
      "kiri [3, 9]\n",
      "kanan [82, 10]\n",
      "kiri [3]\n",
      "kanan [9]\n",
      "kiri [82]\n",
      "kanan [10]\n",
      "Array setelah diurutkan: [3, 9, 10, 27, 38, 43, 82]\n"
     ]
    }
   ],
   "source": [
    "def merge_sort(arr):\n",
    "    if len(arr) > 1:\n",
    "        mid = len(arr) // 2\n",
    "        left_half = arr[:mid]\n",
    "        print('kiri', arr[:mid])\n",
    "        right_half = arr[mid:]\n",
    "        print('kanan', arr[mid:])\n",
    "\n",
    "        merge_sort(left_half)\n",
    "        merge_sort(right_half)\n",
    "\n",
    "        i = j = k = 0\n",
    "\n",
    "        while i < len(left_half) and j < len(right_half):\n",
    "            if left_half[i] < right_half[j]:\n",
    "                arr[k] = left_half[i]\n",
    "                i += 1\n",
    "            else:\n",
    "                arr[k] = right_half[j]\n",
    "                j += 1\n",
    "            k += 1\n",
    "\n",
    "        while i < len(left_half):\n",
    "            arr[k] = left_half[i]\n",
    "            i += 1\n",
    "            k += 1\n",
    "\n",
    "        while j < len(right_half):\n",
    "            arr[k] = right_half[j]\n",
    "            j += 1\n",
    "            k += 1\n",
    "\n",
    "\n",
    "arr = [38, 27, 43, 3, 9, 82, 10]\n",
    "print(f\"Array sebelum diurutkan: {arr}\")\n",
    "merge_sort(arr)\n",
    "print(f\"Array setelah diurutkan: {arr}\")\n",
    "\n"
   ]
  }
 ],
 "metadata": {
  "kernelspec": {
   "display_name": "Python 3",
   "language": "python",
   "name": "python3"
  },
  "language_info": {
   "codemirror_mode": {
    "name": "ipython",
    "version": 3
   },
   "file_extension": ".py",
   "mimetype": "text/x-python",
   "name": "python",
   "nbconvert_exporter": "python",
   "pygments_lexer": "ipython3",
   "version": "3.10.10"
  },
  "orig_nbformat": 4,
  "vscode": {
   "interpreter": {
    "hash": "13c8bfed51eabc6e7ab2e0e5314de8bd3d0d7e15c64b2d15f0bd7fa476830b6c"
   }
  }
 },
 "nbformat": 4,
 "nbformat_minor": 2
}
