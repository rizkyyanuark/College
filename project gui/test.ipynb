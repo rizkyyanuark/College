{
 "cells": [
  {
   "cell_type": "code",
   "execution_count": 1,
   "metadata": {},
   "outputs": [
    {
     "ename": "NameError",
     "evalue": "name 'l' is not defined",
     "output_type": "error",
     "traceback": [
      "\u001b[1;31m---------------------------------------------------------------------------\u001b[0m",
      "\u001b[1;31mNameError\u001b[0m                                 Traceback (most recent call last)",
      "Cell \u001b[1;32mIn[1], line 14\u001b[0m\n\u001b[0;32m      6\u001b[0m     \u001b[39mreturn\u001b[39;00m arr\n\u001b[0;32m      7\u001b[0m arr \u001b[39m=\u001b[39m[\u001b[39m2\u001b[39m, \u001b[39m1\u001b[39m, \u001b[39m40\u001b[39m, \u001b[39m3\u001b[39m,\u001b[39m43\u001b[39m,\n\u001b[0;32m      8\u001b[0m \u001b[39m-\u001b[39m\u001b[39m1\u001b[39m,\n\u001b[0;32m      9\u001b[0m \u001b[39m58\u001b[39m,\n\u001b[1;32m   (...)\u001b[0m\n\u001b[0;32m     12\u001b[0m \u001b[39m4\u001b[39m,\n\u001b[0;32m     13\u001b[0m \u001b[39m65\u001b[39m ]\n\u001b[1;32m---> 14\u001b[0m B\u001b[39m=\u001b[39m BubbleSort(arr)\n\u001b[0;32m     15\u001b[0m \u001b[39mprint\u001b[39m (B)\n",
      "Cell \u001b[1;32mIn[1], line 2\u001b[0m, in \u001b[0;36mBubbleSort\u001b[1;34m(arr)\u001b[0m\n\u001b[0;32m      1\u001b[0m \u001b[39mdef\u001b[39;00m \u001b[39mBubbleSort\u001b[39m(arr):\n\u001b[1;32m----> 2\u001b[0m     \u001b[39mfor\u001b[39;00m i \u001b[39min\u001b[39;00m \u001b[39mrange\u001b[39m(\u001b[39mlen\u001b[39m(arr)\u001b[39m-\u001b[39ml):\n\u001b[0;32m      3\u001b[0m         \u001b[39mfor\u001b[39;00m j \u001b[39min\u001b[39;00m \u001b[39mrange\u001b[39m(\u001b[39mlen\u001b[39m(arr)\u001b[39m-\u001b[39mi\u001b[39m-\u001b[39ml):\n\u001b[0;32m      4\u001b[0m             \u001b[39mif\u001b[39;00m arr[j] \u001b[39m>\u001b[39m arr[j\u001b[39m+\u001b[39ml]:\n",
      "\u001b[1;31mNameError\u001b[0m: name 'l' is not defined"
     ]
    }
   ],
   "source": [
    "def BubbleSort(arr):\n",
    "    for i in range(len(arr)-l):\n",
    "        for j in range(len(arr)-i-l):\n",
    "            if arr[j] > arr[j+l]:\n",
    "                arr[j], arr[j+l]=arr[j+l],arr[j]\n",
    "    return arr\n",
    "arr =[2, 1, 40, 3,43,\n",
    "-1,\n",
    "58,\n",
    "3,\n",
    "42,\n",
    "4,\n",
    "65 ]\n",
    "B= BubbleSort(arr)\n",
    "print (B)\n"
   ]
  }
 ],
 "metadata": {
  "kernelspec": {
   "display_name": "Python 3",
   "language": "python",
   "name": "python3"
  },
  "language_info": {
   "codemirror_mode": {
    "name": "ipython",
    "version": 3
   },
   "file_extension": ".py",
   "mimetype": "text/x-python",
   "name": "python",
   "nbconvert_exporter": "python",
   "pygments_lexer": "ipython3",
   "version": "3.10.10"
  },
  "orig_nbformat": 4,
  "vscode": {
   "interpreter": {
    "hash": "13c8bfed51eabc6e7ab2e0e5314de8bd3d0d7e15c64b2d15f0bd7fa476830b6c"
   }
  }
 },
 "nbformat": 4,
 "nbformat_minor": 2
}
