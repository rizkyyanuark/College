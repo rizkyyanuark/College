{
 "cells": [
  {
   "cell_type": "code",
   "execution_count": null,
   "metadata": {},
   "outputs": [],
   "source": []
  }
 ],
 "metadata": {
  "kernelspec": {
   "display_name": "Python 3",
   "language": "python",
   "name": "python3"
  },
  "language_info": {
   "name": "python",
   "version": "3.10.10"
  },
  "orig_nbformat": 4,
  "vscode": {
   "interpreter": {
    "hash": "13c8bfed51eabc6e7ab2e0e5314de8bd3d0d7e15c64b2d15f0bd7fa476830b6c"
   }
  }
 },
 "nbformat": 4,
 "nbformat_minor": 2
}
