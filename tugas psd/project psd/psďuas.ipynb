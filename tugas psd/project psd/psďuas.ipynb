{
 "cells": [
  {
   "cell_type": "code",
   "execution_count": null,
   "metadata": {},
   "outputs": [],
   "source": [
    "import pydub\n",
    "from scipy import signal\n",
    "import scipy.io.wavfile as wav\n",
    "import scipy.signal as signal\n",
    "import matplotlib.pyplot as plt\n",
    "import scipy.io.wavfile as wavfile\n",
    "from scipy.signal import spectrogram\n",
    "from scipy.fft import fft\n",
    "import numpy as np\n",
    "import librosa\n",
    "import scipy\n"
   ]
  },
  {
   "cell_type": "code",
   "execution_count": null,
   "metadata": {},
   "outputs": [],
   "source": [
    "data, sr = librosa.load('filtered audio3.wav')\n",
    "\n",
    "\n",
    "data, sr = librosa.load('filtered audio3.wav')\n",
    "def FFT(file, judul):\n",
    "    X = fft(file)\n",
    "    X_mag = np.absolute(X)\n",
    "    f = np.linspace(0, sr, len(X_mag))\n",
    "    plt.figure(figsize=(13, 5))\n",
    "    plt.plot(f[:len(f)//2], X_mag[:len(f)//2])\n",
    "    plt.xlabel(\"frekuensi (Hz)\")\n",
    "    plt.title(judul)\n"
   ]
  },
  {
   "cell_type": "code",
   "execution_count": null,
   "metadata": {},
   "outputs": [],
   "source": [
    "# Load the WAV file\n",
    "try:\n",
    "    sampling_rate, data = wavfile.read('filtered audio3.wav')\n",
    "except FileNotFoundError:\n",
    "    print(\"File not found.\")\n",
    "    exit()\n",
    "except Exception as e:\n",
    "    print(\"An error occurred while reading the file:\", e)\n",
    "    exit()\n",
    "\n",
    "# Compute and plot the FFT of the audio data\n",
    "FFT(data, 'FFT of Audio Data')\n",
    "\n",
    "# Display the plot\n",
    "plt.show()\n"
   ]
  }
 ],
 "metadata": {
  "language_info": {
   "name": "python"
  },
  "orig_nbformat": 4
 },
 "nbformat": 4,
 "nbformat_minor": 2
}
