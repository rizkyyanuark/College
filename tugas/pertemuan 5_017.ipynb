{
 "cells": [
  {
   "cell_type": "code",
   "execution_count": 9,
   "metadata": {},
   "outputs": [
    {
     "name": "stdout",
     "output_type": "stream",
     "text": [
      "4\n",
      "3\n",
      "2\n",
      "1\n",
      "blastoff\n"
     ]
    }
   ],
   "source": [
    "# for loop\n",
    "def countdown(n):\n",
    "    for i in range(n,-1,-1):\n",
    "        if i<=0:\n",
    "            print('blastoff')\n",
    "        else:\n",
    "            print(i)\n",
    "x = int(input())\n",
    "countdown(x)\n",
    "\n",
    "        "
   ]
  },
  {
   "cell_type": "code",
   "execution_count": 12,
   "metadata": {},
   "outputs": [
    {
     "name": "stdout",
     "output_type": "stream",
     "text": [
      "4\n"
     ]
    }
   ],
   "source": [
    "def countdown(n):\n",
    "    print(n)\n",
    "    if n > 0: # Base case\n",
    "        return \n",
    "    else:\n",
    "        countdown(n - 1) # Recursive case\n",
    "countdown(4)"
   ]
  },
  {
   "cell_type": "code",
   "execution_count": 7,
   "metadata": {},
   "outputs": [
    {
     "name": "stdout",
     "output_type": "stream",
     "text": [
      "4\n",
      "3\n",
      "3\n",
      "2\n",
      "2\n",
      "1\n",
      "1\n",
      "0\n",
      "blastoff\n"
     ]
    }
   ],
   "source": [
    "# while loop\n",
    "def countdown(n):\n",
    "    while n>0:\n",
    "        print(n)\n",
    "        n = n-1\n",
    "    print('blastoff')\n",
    "x = int(input())\n",
    "countdown(x)"
   ]
  },
  {
   "cell_type": "code",
   "execution_count": 13,
   "metadata": {},
   "outputs": [
    {
     "name": "stdout",
     "output_type": "stream",
     "text": [
      "Jumlah dari list [1, 2, 3, 4, 5] adalah 15\n"
     ]
    }
   ],
   "source": [
    "def jumlah_list(list, n):\n",
    "    if n == 0:\n",
    "        return 0\n",
    "    else:\n",
    "        return list[n-1] + jumlah_list(list, n-1)\n",
    "\n",
    "list = [1, 2, 3, 4, 5]\n",
    "n = len(list)\n",
    "\n",
    "print(\"Jumlah dari list\", list, \"adalah\", jumlah_list(list, n))"
   ]
  },
  {
   "cell_type": "code",
   "execution_count": null,
   "metadata": {},
   "outputs": [],
   "source": [
    "def pangkat(x, n):\n",
    "    if n == 0:\n",
    "        return 1\n",
    "    else:\n",
    "        return x * pangkat(x, n-1)\n",
    "\n",
    "x = 2\n",
    "n = 3\n",
    "\n",
    "print(x, \"pangkat\", n, \"adalah\", pangkat(x, n))"
   ]
  },
  {
   "cell_type": "code",
   "execution_count": null,
   "metadata": {},
   "outputs": [],
   "source": [
    "def balik_kata(kata):\n",
    "    if len(kata) == 0:\n",
    "        return kata\n",
    "    else:\n",
    "        return balik_kata(kata[1:]) + kata[0]\n",
    "\n",
    "kata = \"Hello World!\"\n",
    "\n",
    "print(\"Kata asli:\", kata)\n",
    "print(\"Kata yang dibalik:\", balik_kata(kata))"
   ]
  },
  {
   "cell_type": "code",
   "execution_count": null,
   "metadata": {},
   "outputs": [],
   "source": [
    "def cari_nilai_divide_conquer(list, nilai, awal, akhir):\n",
    "    if awal > akhir:\n",
    "        return -1\n",
    "    else:\n",
    "        tengah = (awal + akhir) // 2\n",
    "        if list[tengah] == nilai:\n",
    "            return tengah\n",
    "        elif list[tengah] > nilai:\n",
    "            return cari_nilai_divide_conquer(list, nilai, awal, tengah-1)\n",
    "        else:\n",
    "            return cari_nilai_divide_conquer(list, nilai, tengah+1, akhir)\n",
    "\n",
    "list = [1, 2, 3, 4, 5]\n",
    "nilai = 3\n",
    "\n",
    "print(\"List:\", list)\n",
    "print(\"Nilai yang dicari:\", nilai)\n",
    "print(\"Indeks nilai yang dicari:\", cari_nilai_divide_conquer(list, nilai, 0, len(list)-1))l"
   ]
  }
 ],
 "metadata": {
  "kernelspec": {
   "display_name": "Python 3",
   "language": "python",
   "name": "python3"
  },
  "language_info": {
   "codemirror_mode": {
    "name": "ipython",
    "version": 3
   },
   "file_extension": ".py",
   "mimetype": "text/x-python",
   "name": "python",
   "nbconvert_exporter": "python",
   "pygments_lexer": "ipython3",
   "version": "3.10.10"
  },
  "orig_nbformat": 4
 },
 "nbformat": 4,
 "nbformat_minor": 2
}
